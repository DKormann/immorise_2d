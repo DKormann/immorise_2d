{
 "cells": [
  {
   "cell_type": "code",
   "execution_count": 209,
   "metadata": {},
   "outputs": [],
   "source": [
    "import numpy as np\n",
    "import torch\n",
    "\n",
    "from torch.utils.data import Dataset, DataLoader\n"
   ]
  },
  {
   "cell_type": "markdown",
   "metadata": {},
   "source": [
    "1. generate points. Just a line so a vector with 10 points with varying starting points that is sorted. return the first point. It is vector, label\n",
    "\n",
    "Encapsulate that in a Dataloader object.\n"
   ]
  },
  {
   "cell_type": "code",
   "execution_count": 210,
   "metadata": {},
   "outputs": [
    {
     "name": "stdout",
     "output_type": "stream",
     "text": [
      "(tensor([10, 11, 11, 13, 14, 14, 14, 22, 27, 28]), tensor(164))\n",
      "<class 'torch.Tensor'>\n"
     ]
    }
   ],
   "source": [
    "amount_of_points = 10\n",
    "# min_val = 0\n",
    "max_val = 30\n",
    "\n",
    "def get_line():\n",
    "    min_val = np.random.randint(low=0, high= max_val//2)\n",
    "    line_points = np.random.randint(low=min_val, high=max_val, size=(amount_of_points,))\n",
    "    line_points.sort()\n",
    "    torch_line_points = torch.from_numpy(line_points)\n",
    "    return torch_line_points, torch_line_points.sum()\n",
    "\n",
    "print(get_line())\n",
    "print(type(get_line()[1]))\n",
    "\n",
    "class CustomDataset(Dataset):\n",
    "    def __init__(self, size):\n",
    "        self.size = size\n",
    "    \n",
    "    def __len__(self):\n",
    "        return self.size\n",
    "    \n",
    "    def __getitem__(self, index):\n",
    "        input_data, label = get_line()\n",
    "        return input_data, label\n",
    "    \n",
    "dataset_size = 10000\n",
    "batch_size = 16\n",
    "\n",
    "\n",
    "train_dataset = CustomDataset(dataset_size)\n",
    "test_dataset = CustomDataset(dataset_size//100)\n",
    "\n",
    "# No need for shuffle\n",
    "train_dataloader = DataLoader(train_dataset, batch_size=batch_size, shuffle=False)\n",
    "test_dataloader = DataLoader(test_dataset, batch_size=batch_size, shuffle=False)\n"
   ]
  },
  {
   "cell_type": "markdown",
   "metadata": {},
   "source": [
    "2. Embedding layer that takes the points and embedds them into a different space."
   ]
  },
  {
   "cell_type": "code",
   "execution_count": 211,
   "metadata": {},
   "outputs": [],
   "source": [
    "# TODO what about the embedding dim\n",
    "embedding_dim = 64\n",
    "embedding_layer = torch.nn.Embedding(num_embeddings=max_val + 1, embedding_dim=embedding_dim)"
   ]
  },
  {
   "cell_type": "markdown",
   "metadata": {},
   "source": [
    "3. Positional encoding: ignore for now"
   ]
  },
  {
   "cell_type": "code",
   "execution_count": 212,
   "metadata": {},
   "outputs": [],
   "source": [
    "# ignored"
   ]
  },
  {
   "cell_type": "markdown",
   "metadata": {},
   "source": [
    "4. Attention Layer. Also a network/Layer"
   ]
  },
  {
   "cell_type": "code",
   "execution_count": 213,
   "metadata": {},
   "outputs": [],
   "source": [
    "from torch import nn\n",
    "import torch\n",
    "import torch.nn.functional as F\n",
    "\n",
    "class AttentionLayer(nn.Module):\n",
    "    def __init__(self, feature_size):\n",
    "        super(AttentionLayer, self).__init__()\n",
    "        self.feature_size = feature_size\n",
    "\n",
    "        # calculate Q, K, V from the same source\n",
    "        self.k = nn.Linear(feature_size, feature_size)\n",
    "        self.q = nn.Linear(feature_size, feature_size)\n",
    "        self.v = nn.Linear(feature_size, feature_size)\n",
    "\n",
    "    def forward(self, x, mask=None):\n",
    "        # linear trans\n",
    "        keys = self.k(x)\n",
    "        queries = self.q(x)\n",
    "        values = self.v(x)\n",
    "\n",
    "        # move into init?\n",
    "        # Why the f do I need the first parameter as a tensor? Wrong function call? how about np.sqrt?\n",
    "        scaling_factor = torch.sqrt(torch.tensor(self.feature_size, dtype=torch.float32))\n",
    "        \n",
    "        scores = torch.matmul(queries, keys.transpose(-2, -1)) / scaling_factor\n",
    "\n",
    "        # optional: add mask here\n",
    "\n",
    "        # appy softmax, convert scores to floating point otherwise the softmax doesn't work\n",
    "        # TODO figure out why\n",
    "        attention_weights = F.softmax(scores.float(), dim=1)\n",
    "\n",
    "        output = torch.matmul(attention_weights, values)\n",
    "\n",
    "        return output"
   ]
  },
  {
   "cell_type": "markdown",
   "metadata": {},
   "source": [
    "Final network, with all layers + a linear layer (should suffice)"
   ]
  },
  {
   "cell_type": "code",
   "execution_count": 214,
   "metadata": {},
   "outputs": [],
   "source": [
    "class Transfomer(nn.Module):\n",
    "    def __init__(self):\n",
    "        super(Transfomer, self).__init__()\n",
    "        self.embedding = torch.nn.Embedding(num_embeddings=max_val + 1, embedding_dim=embedding_dim)\n",
    "        self.attention_layer = AttentionLayer(feature_size=embedding_dim)\n",
    "        self.lin_net1 = nn.Linear(embedding_dim, out_features=64)\n",
    "        self.lin_net2 = nn.Linear(64, out_features=1)\n",
    "        self.lin_net3 = nn.Linear(10, 1)\n",
    "\n",
    "    def forward(self, x):\n",
    "        x = self.embedding(x)\n",
    "        x = self.attention_layer(x)\n",
    "        x = self.lin_net1(x)\n",
    "        x = self.lin_net2(x)\n",
    "        x = x.squeeze()\n",
    "        x = self.lin_net3(x)\n",
    "        x = x.squeeze()\n",
    "        return x"
   ]
  },
  {
   "cell_type": "markdown",
   "metadata": {},
   "source": [
    "5. Training loop"
   ]
  },
  {
   "cell_type": "code",
   "execution_count": 215,
   "metadata": {},
   "outputs": [
    {
     "data": {
      "text/plain": [
       "torch.Size([4, 31])"
      ]
     },
     "execution_count": 215,
     "metadata": {},
     "output_type": "execute_result"
    }
   ],
   "source": [
    "def onehotencodevalue(size:int, label:int):\n",
    "    vector = torch.zeros(size)\n",
    "    vector[label] = 1.0\n",
    "\n",
    "    return vector\n",
    "\n",
    "def onehotencodebatchvalues(size:int, labels):\n",
    "    oneHotencodedBatch = torch.zeros((len(labels), size))\n",
    "\n",
    "    for idx, label in enumerate(labels):\n",
    "        OHE_vector = onehotencodevalue(size, label)\n",
    "        oneHotencodedBatch[idx] = OHE_vector\n",
    "    \n",
    "    return oneHotencodedBatch\n",
    "\n",
    "OHEBathc = onehotencodebatchvalues(max_val + 1, [4, 7, 9, 10])\n",
    "OHEBathc.shape"
   ]
  },
  {
   "cell_type": "code",
   "execution_count": 216,
   "metadata": {},
   "outputs": [],
   "source": [
    "def train_loop(dataloader, model, loss_fn, optimizer):\n",
    "    size = len(dataloader.dataset)\n",
    "    # Set the model to training mode - important for batch normalization and  dropout layers\n",
    "    # Unnecessary in this situation but added for best practices\n",
    "    model.train()\n",
    "    for batch_number, (X, y) in enumerate(dataloader):\n",
    "        # Compute prediction and loss\n",
    "        # take the highest predicted class.\n",
    "        # TODO THIS SEEMS WRONG; TAKING THE HIGHES PREDICTED CLASS WILL STIFEN LEARNING NO?\n",
    "        pred = model(X)\n",
    "\n",
    "        loss = loss_fn(pred.float(), y.float())\n",
    "\n",
    "        # Backpropagation\n",
    "        loss.backward()\n",
    "        optimizer.step()\n",
    "        optimizer.zero_grad()\n",
    "\n",
    "        if batch_number % 100 == 0:\n",
    "            loss, current = loss.item(), (batch_number + 1) * len(X)\n",
    "            print(f\"loss: {loss:>7f}  [{current:>5d}/{size:>5d}]\")"
   ]
  },
  {
   "cell_type": "markdown",
   "metadata": {},
   "source": [
    "6. Testing loop"
   ]
  },
  {
   "cell_type": "code",
   "execution_count": 217,
   "metadata": {},
   "outputs": [],
   "source": [
    "def test_loop(dataloader, model, loss_fn):\n",
    "    # Set the model to evaluation mode - important for batch normalization and dropout layers\n",
    "    # Unnecessary in this situation but added for best practices\n",
    "    model.eval()\n",
    "    size = len(dataloader.dataset)\n",
    "    num_batches = len(dataloader)\n",
    "    test_loss, correct = 0, 0\n",
    "\n",
    "    # Evaluating the model with torch.no_grad() ensures that no gradients are computed during test mode\n",
    "    # also serves to reduce unnecessary gradient computations and memory usage for tensors with requires_grad=True\n",
    "    with torch.no_grad():\n",
    "        for X, y in dataloader:\n",
    "            pred = model(X)\n",
    "            test_loss += loss_fn(pred.float(), y).item()\n",
    "            correct += (pred == y).type(torch.float).sum().item()\n",
    "\n",
    "    test_loss /= num_batches\n",
    "    correct /= size\n",
    "    print(f\"Test Error: \\n Accuracy: {(100*correct):>0.1f}%, Avg loss: {test_loss:>8f} \\n\")"
   ]
  },
  {
   "cell_type": "markdown",
   "metadata": {},
   "source": [
    "7. Execution "
   ]
  },
  {
   "cell_type": "code",
   "execution_count": 218,
   "metadata": {},
   "outputs": [
    {
     "name": "stdout",
     "output_type": "stream",
     "text": [
      "Epoch 1\n",
      "-------------------------------\n",
      "loss: 3.607677  [   16/10000]\n",
      "loss: 3.621504  [ 1616/10000]\n",
      "loss: 0.348752  [ 3216/10000]\n",
      "loss: 0.164937  [ 4816/10000]\n",
      "loss: 0.529379  [ 6416/10000]\n",
      "loss: 0.142390  [ 8016/10000]\n",
      "loss: 0.077591  [ 9616/10000]\n",
      "Test Error: \n",
      " Accuracy: 0.0%, Avg loss: 0.223382 \n",
      "\n",
      "Epoch 2\n",
      "-------------------------------\n",
      "loss: 0.230664  [   16/10000]\n",
      "loss: 0.704675  [ 1616/10000]\n",
      "loss: 0.660638  [ 3216/10000]\n",
      "loss: 0.205202  [ 4816/10000]\n",
      "loss: 0.144659  [ 6416/10000]\n",
      "loss: 0.419126  [ 8016/10000]\n",
      "loss: 0.107252  [ 9616/10000]\n",
      "Test Error: \n",
      " Accuracy: 0.0%, Avg loss: 0.368977 \n",
      "\n",
      "Epoch 3\n",
      "-------------------------------\n",
      "loss: 0.345632  [   16/10000]\n",
      "loss: 0.177451  [ 1616/10000]\n",
      "loss: 0.557034  [ 3216/10000]\n",
      "loss: 0.072028  [ 4816/10000]\n",
      "loss: 0.074974  [ 6416/10000]\n",
      "loss: 0.524614  [ 8016/10000]\n",
      "loss: 0.310789  [ 9616/10000]\n",
      "Test Error: \n",
      " Accuracy: 0.0%, Avg loss: 0.448795 \n",
      "\n",
      "Epoch 4\n",
      "-------------------------------\n",
      "loss: 0.475042  [   16/10000]\n",
      "loss: 0.146410  [ 1616/10000]\n",
      "loss: 0.469327  [ 3216/10000]\n",
      "loss: 0.265558  [ 4816/10000]\n",
      "loss: 0.291097  [ 6416/10000]\n",
      "loss: 0.288104  [ 8016/10000]\n",
      "loss: 0.148903  [ 9616/10000]\n",
      "Test Error: \n",
      " Accuracy: 0.0%, Avg loss: 0.283710 \n",
      "\n",
      "Epoch 5\n",
      "-------------------------------\n",
      "loss: 0.283607  [   16/10000]\n",
      "loss: 0.133721  [ 1616/10000]\n",
      "loss: 0.125118  [ 3216/10000]\n",
      "loss: 0.091328  [ 4816/10000]\n",
      "loss: 0.139591  [ 6416/10000]\n",
      "loss: 0.142686  [ 8016/10000]\n",
      "loss: 0.054511  [ 9616/10000]\n",
      "Test Error: \n",
      " Accuracy: 0.0%, Avg loss: 0.136699 \n",
      "\n",
      "Epoch 6\n",
      "-------------------------------\n",
      "loss: 0.136718  [   16/10000]\n",
      "loss: 0.110443  [ 1616/10000]\n",
      "loss: 0.091368  [ 3216/10000]\n",
      "loss: 0.062808  [ 4816/10000]\n",
      "loss: 0.137293  [ 6416/10000]\n",
      "loss: 0.208099  [ 8016/10000]\n",
      "loss: 0.126203  [ 9616/10000]\n",
      "Test Error: \n",
      " Accuracy: 0.0%, Avg loss: 0.121915 \n",
      "\n",
      "Epoch 7\n",
      "-------------------------------\n",
      "loss: 0.132539  [   16/10000]\n",
      "loss: 0.045658  [ 1616/10000]\n",
      "loss: 0.122295  [ 3216/10000]\n",
      "loss: 0.084450  [ 4816/10000]\n",
      "loss: 0.199299  [ 6416/10000]\n",
      "loss: 0.207473  [ 8016/10000]\n",
      "loss: 0.117505  [ 9616/10000]\n",
      "Test Error: \n",
      " Accuracy: 0.0%, Avg loss: 0.202545 \n",
      "\n",
      "Epoch 8\n",
      "-------------------------------\n",
      "loss: 0.215024  [   16/10000]\n",
      "loss: 0.150143  [ 1616/10000]\n",
      "loss: 0.110878  [ 3216/10000]\n",
      "loss: 0.165308  [ 4816/10000]\n",
      "loss: 0.068041  [ 6416/10000]\n",
      "loss: 0.102677  [ 8016/10000]\n",
      "loss: 0.087499  [ 9616/10000]\n",
      "Test Error: \n",
      " Accuracy: 0.0%, Avg loss: 0.039176 \n",
      "\n",
      "Epoch 9\n",
      "-------------------------------\n",
      "loss: 0.036492  [   16/10000]\n",
      "loss: 0.152992  [ 1616/10000]\n",
      "loss: 0.128999  [ 3216/10000]\n",
      "loss: 0.128647  [ 4816/10000]\n",
      "loss: 0.043247  [ 6416/10000]\n",
      "loss: 0.129662  [ 8016/10000]\n",
      "loss: 0.137309  [ 9616/10000]\n",
      "Test Error: \n",
      " Accuracy: 0.0%, Avg loss: 0.190421 \n",
      "\n",
      "Epoch 10\n",
      "-------------------------------\n",
      "loss: 0.185260  [   16/10000]\n",
      "loss: 0.159572  [ 1616/10000]\n",
      "loss: 0.109739  [ 3216/10000]\n",
      "loss: 0.126294  [ 4816/10000]\n",
      "loss: 0.106427  [ 6416/10000]\n",
      "loss: 0.139166  [ 8016/10000]\n",
      "loss: 0.227268  [ 9616/10000]\n",
      "Test Error: \n",
      " Accuracy: 0.0%, Avg loss: 0.140273 \n",
      "\n",
      "Done!\n"
     ]
    }
   ],
   "source": [
    "model = Transfomer()\n",
    "learning_rate = 0.1\n",
    "\n",
    "# defines the \"correct\" the output is\n",
    "loss_fn = torch.nn.HuberLoss(reduction='mean', delta=0.02)\n",
    "# defines how to adapt the model parameters depending on the (input, loss)\n",
    "# here we use stochastic gradient descent\n",
    "optimizer = torch.optim.SGD(model.parameters(), lr=learning_rate)\n",
    "\n",
    "epochs = 10\n",
    "for t in range(epochs):\n",
    "    print(f\"Epoch {t+1}\\n-------------------------------\")\n",
    "    train_loop(train_dataloader, model, loss_fn, optimizer)\n",
    "\t# testing for each epoch to track the models performance during training.\n",
    "    test_loop(test_dataloader, model, loss_fn)\n",
    "print(\"Done!\")"
   ]
  },
  {
   "cell_type": "code",
   "execution_count": 222,
   "metadata": {},
   "outputs": [
    {
     "name": "stdout",
     "output_type": "stream",
     "text": [
      "model input:  tensor([17, 17, 20, 20, 20, 22, 24, 24, 26, 28])\n",
      "expected output: first element:  218\n",
      "actual output:  217.1650848388672\n",
      "difference:  tensor(0.8349, grad_fn=<AbsBackward0>)\n",
      "not bad\n"
     ]
    }
   ],
   "source": [
    "import math\n",
    "\n",
    "x,y = get_line()\n",
    "model_output = model(x)\n",
    "print(\"model input: \", x)\n",
    "print(\"expected output: first element: \", y.item())\n",
    "print(\"actual output: \", model_output.item())\n",
    "\n",
    "difference = abs(model_output - y)\n",
    "print(\"difference: \", difference)\n",
    "\n",
    "if difference < 1:\n",
    "    print(\"not bad\")\n",
    "else:\n",
    "    print(\"needs some finetuning still\")"
   ]
  }
 ],
 "metadata": {
  "kernelspec": {
   "display_name": "Python 3",
   "language": "python",
   "name": "python3"
  },
  "language_info": {
   "codemirror_mode": {
    "name": "ipython",
    "version": 3
   },
   "file_extension": ".py",
   "mimetype": "text/x-python",
   "name": "python",
   "nbconvert_exporter": "python",
   "pygments_lexer": "ipython3",
   "version": "3.10.14"
  }
 },
 "nbformat": 4,
 "nbformat_minor": 2
}
