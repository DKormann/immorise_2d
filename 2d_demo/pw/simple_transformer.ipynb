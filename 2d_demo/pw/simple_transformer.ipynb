{
 "cells": [
  {
   "cell_type": "code",
   "execution_count": 1,
   "metadata": {},
   "outputs": [],
   "source": [
    "import numpy as np\n",
    "import torch\n",
    "\n",
    "from torch.utils.data import Dataset, DataLoader\n"
   ]
  },
  {
   "cell_type": "markdown",
   "metadata": {},
   "source": [
    "1. generate points. Just a line so a vector with 10 points with varying starting points that is sorted. return the first point. It is vector, label\n",
    "\n",
    "Encapsulate that in a Dataloader object.\n"
   ]
  },
  {
   "cell_type": "code",
   "execution_count": 2,
   "metadata": {},
   "outputs": [
    {
     "name": "stdout",
     "output_type": "stream",
     "text": [
      "(tensor([ 0,  0,  1, 12, 13, 22, 22, 25, 25, 26]), tensor(0))\n",
      "<class 'torch.Tensor'>\n"
     ]
    }
   ],
   "source": [
    "amount_of_points = 10\n",
    "min_val = 0\n",
    "max_val = 30\n",
    "\n",
    "def get_line():\n",
    "    line_points = np.random.randint(low=min_val, high=max_val, size=(amount_of_points,))\n",
    "    line_points.sort()\n",
    "    torch_line_points = torch.from_numpy(line_points)\n",
    "    return torch_line_points, torch_line_points[0]\n",
    "\n",
    "print(get_line())\n",
    "print(type(get_line()[1]))\n",
    "\n",
    "class CustomDataset(Dataset):\n",
    "    def __init__(self, size):\n",
    "        self.size = size\n",
    "    \n",
    "    def __len__(self):\n",
    "        return self.size\n",
    "    \n",
    "    def __getitem__(self, index):\n",
    "        input_data, label = get_line()\n",
    "        return input_data, label\n",
    "    \n",
    "dataset_size = 1000\n",
    "batch_size = 16\n",
    "\n",
    "\n",
    "train_dataset = CustomDataset(dataset_size)\n",
    "test_dataset = CustomDataset(dataset_size//10)\n",
    "\n",
    "# No need for shuffle\n",
    "train_dataloader = DataLoader(train_dataset, batch_size=batch_size, shuffle=False)\n",
    "test_dataloader = DataLoader(test_dataset, batch_size=batch_size, shuffle=False)\n"
   ]
  },
  {
   "cell_type": "markdown",
   "metadata": {},
   "source": [
    "2. Embedding layer that takes the points and embedds them into a different space."
   ]
  },
  {
   "cell_type": "code",
   "execution_count": 3,
   "metadata": {},
   "outputs": [],
   "source": [
    "# TODO what about the embedding dim\n",
    "embedding_dim = 64\n",
    "embedding_layer = torch.nn.Embedding(num_embeddings=max_val + 1, embedding_dim=embedding_dim)"
   ]
  },
  {
   "cell_type": "markdown",
   "metadata": {},
   "source": [
    "3. Positional encoding: ignore for now"
   ]
  },
  {
   "cell_type": "code",
   "execution_count": 4,
   "metadata": {},
   "outputs": [],
   "source": [
    "# ignored"
   ]
  },
  {
   "cell_type": "markdown",
   "metadata": {},
   "source": [
    "4. Attention Layer. Also a network/Layer"
   ]
  },
  {
   "cell_type": "code",
   "execution_count": 5,
   "metadata": {},
   "outputs": [],
   "source": [
    "from torch import nn\n",
    "import torch\n",
    "import torch.nn.functional as F\n",
    "\n",
    "class AttentionLayer(nn.Module):\n",
    "    def __init__(self, feature_size):\n",
    "        super(AttentionLayer, self).__init__()\n",
    "        self.feature_size = feature_size\n",
    "\n",
    "        # calculate Q, K, V from the same source\n",
    "        self.k = nn.Linear(feature_size, feature_size)\n",
    "        self.q = nn.Linear(feature_size, feature_size)\n",
    "        self.v = nn.Linear(feature_size, feature_size)\n",
    "\n",
    "    def forward(self, x, mask=None):\n",
    "        # linear trans\n",
    "        keys = self.k(x)\n",
    "        queries = self.q(x)\n",
    "        values = self.v(x)\n",
    "\n",
    "        # move into init?\n",
    "        # Why the f do I need the first parameter as a tensor? Wrong function call? how about np.sqrt?\n",
    "        scaling_factor = torch.sqrt(torch.tensor(self.feature_size, dtype=torch.float32))\n",
    "        \n",
    "        scores = torch.matmul(queries, keys.transpose(-2, -1)) / scaling_factor\n",
    "\n",
    "        # optional: add mask here\n",
    "\n",
    "        # appy softmax, convert scores to floating point otherwise the softmax doesn't work\n",
    "        # TODO figure out why\n",
    "        attention_weights = F.softmax(scores.float(), dim=1)\n",
    "\n",
    "        output = torch.matmul(attention_weights, values)\n",
    "\n",
    "        return output, attention_weights"
   ]
  },
  {
   "cell_type": "markdown",
   "metadata": {},
   "source": [
    "Final network, with all layers + a linear layer (should suffice)"
   ]
  },
  {
   "cell_type": "code",
   "execution_count": 6,
   "metadata": {},
   "outputs": [],
   "source": [
    "class Transfomer(nn.Module):\n",
    "    def __init__(self):\n",
    "        super(Transfomer, self).__init__()\n",
    "        self.embedding = torch.nn.Embedding(num_embeddings=max_val + 1, embedding_dim=embedding_dim)\n",
    "        self.attention_layer = AttentionLayer(feature_size=embedding_dim)\n",
    "        self.lin_net = nn.Linear(embedding_dim, out_features=max_val + 1)\n",
    "\n",
    "    def forward(self, x):\n",
    "        emb_x = self.embedding(x)\n",
    "        # ignoring the attention weights\n",
    "        att_x, _ = self.attention_layer(emb_x)\n",
    "        out_x = torch.amax(self.lin_net(att_x), dim=-2)\n",
    "        return out_x"
   ]
  },
  {
   "cell_type": "markdown",
   "metadata": {},
   "source": [
    "5. Training loop"
   ]
  },
  {
   "cell_type": "code",
   "execution_count": 7,
   "metadata": {},
   "outputs": [
    {
     "data": {
      "text/plain": [
       "torch.Size([4, 31])"
      ]
     },
     "execution_count": 7,
     "metadata": {},
     "output_type": "execute_result"
    }
   ],
   "source": [
    "def onehotencodevalue(size:int, label:int):\n",
    "    vector = torch.zeros(size)\n",
    "    vector[label] = 1.0\n",
    "\n",
    "    return vector\n",
    "\n",
    "def onehotencodebatchvalues(size:int, labels):\n",
    "    oneHotencodedBatch = torch.zeros((len(labels), size))\n",
    "\n",
    "    for idx, label in enumerate(labels):\n",
    "        OHE_vector = onehotencodevalue(size, label)\n",
    "        oneHotencodedBatch[idx] = OHE_vector\n",
    "    \n",
    "    return oneHotencodedBatch\n",
    "\n",
    "OHEBathc = onehotencodebatchvalues(max_val + 1, [4, 7, 9, 10])\n",
    "OHEBathc.shape"
   ]
  },
  {
   "cell_type": "code",
   "execution_count": 8,
   "metadata": {},
   "outputs": [],
   "source": [
    "def train_loop(dataloader, model, loss_fn, optimizer):\n",
    "    size = len(dataloader.dataset)\n",
    "    # Set the model to training mode - important for batch normalization and  dropout layers\n",
    "    # Unnecessary in this situation but added for best practices\n",
    "    model.train()\n",
    "    for batch_number, (X, y) in enumerate(dataloader):\n",
    "        # Compute prediction and loss\n",
    "        # take the highest predicted class.\n",
    "        # TODO THIS SEEMS WRONG; TAKING THE HIGHES PREDICTED CLASS WILL STIFEN LEARNING NO?\n",
    "        pred = model(X)\n",
    "\n",
    "        target_vector = onehotencodebatchvalues(size=max_val+1, labels=y)\n",
    "        loss = loss_fn(pred.float(), y)\n",
    "\n",
    "        # Backpropagation\n",
    "        loss.backward()\n",
    "        optimizer.step()\n",
    "        optimizer.zero_grad()\n",
    "\n",
    "        if batch_number % 100 == 0:\n",
    "            loss, current = loss.item(), (batch_number + 1) * len(X)\n",
    "            print(f\"loss: {loss:>7f}  [{current:>5d}/{size:>5d}]\")"
   ]
  },
  {
   "cell_type": "markdown",
   "metadata": {},
   "source": [
    "6. Testing loop"
   ]
  },
  {
   "cell_type": "code",
   "execution_count": 9,
   "metadata": {},
   "outputs": [],
   "source": [
    "def test_loop(dataloader, model, loss_fn):\n",
    "    # Set the model to evaluation mode - important for batch normalization and dropout layers\n",
    "    # Unnecessary in this situation but added for best practices\n",
    "    model.eval()\n",
    "    size = len(dataloader.dataset)\n",
    "    num_batches = len(dataloader)\n",
    "    test_loss, correct = 0, 0\n",
    "\n",
    "    # Evaluating the model with torch.no_grad() ensures that no gradients are computed during test mode\n",
    "    # also serves to reduce unnecessary gradient computations and memory usage for tensors with requires_grad=True\n",
    "    with torch.no_grad():\n",
    "        for X, y in dataloader:\n",
    "            pred = model(X)\n",
    "            target_vector = onehotencodebatchvalues(size=max_val+1, labels=y)\n",
    "            test_loss += loss_fn(pred.float(), y).item()\n",
    "            correct += (pred.argmax(1) == y).type(torch.float).sum().item()\n",
    "\n",
    "    test_loss /= num_batches\n",
    "    correct /= size\n",
    "    print(f\"Test Error: \\n Accuracy: {(100*correct):>0.1f}%, Avg loss: {test_loss:>8f} \\n\")"
   ]
  },
  {
   "cell_type": "markdown",
   "metadata": {},
   "source": [
    "7. Execution "
   ]
  },
  {
   "cell_type": "code",
   "execution_count": 10,
   "metadata": {},
   "outputs": [
    {
     "name": "stdout",
     "output_type": "stream",
     "text": [
      "Epoch 1\n",
      "-------------------------------\n",
      "loss: 3.395942  [   16/ 1000]\n",
      "Test Error: \n",
      " Accuracy: 81.0%, Avg loss: 1.028517 \n",
      "\n",
      "Epoch 2\n",
      "-------------------------------\n",
      "loss: 0.780109  [   16/ 1000]\n",
      "Test Error: \n",
      " Accuracy: 87.0%, Avg loss: 0.574464 \n",
      "\n",
      "Epoch 3\n",
      "-------------------------------\n",
      "loss: 0.477492  [   16/ 1000]\n",
      "Test Error: \n",
      " Accuracy: 86.0%, Avg loss: 0.509828 \n",
      "\n",
      "Epoch 4\n",
      "-------------------------------\n",
      "loss: 0.146055  [   16/ 1000]\n",
      "Test Error: \n",
      " Accuracy: 99.0%, Avg loss: 0.256370 \n",
      "\n",
      "Epoch 5\n",
      "-------------------------------\n",
      "loss: 0.367672  [   16/ 1000]\n",
      "Test Error: \n",
      " Accuracy: 98.0%, Avg loss: 0.126452 \n",
      "\n",
      "Epoch 6\n",
      "-------------------------------\n",
      "loss: 0.287313  [   16/ 1000]\n",
      "Test Error: \n",
      " Accuracy: 92.0%, Avg loss: 0.233219 \n",
      "\n",
      "Epoch 7\n",
      "-------------------------------\n",
      "loss: 0.135310  [   16/ 1000]\n",
      "Test Error: \n",
      " Accuracy: 93.0%, Avg loss: 0.270794 \n",
      "\n",
      "Epoch 8\n",
      "-------------------------------\n",
      "loss: 0.328723  [   16/ 1000]\n",
      "Test Error: \n",
      " Accuracy: 96.0%, Avg loss: 0.201279 \n",
      "\n",
      "Epoch 9\n",
      "-------------------------------\n",
      "loss: 0.323744  [   16/ 1000]\n",
      "Test Error: \n",
      " Accuracy: 97.0%, Avg loss: 0.167904 \n",
      "\n",
      "Epoch 10\n",
      "-------------------------------\n",
      "loss: 0.021381  [   16/ 1000]\n",
      "Test Error: \n",
      " Accuracy: 97.0%, Avg loss: 0.096717 \n",
      "\n",
      "Done!\n"
     ]
    }
   ],
   "source": [
    "model = Transfomer()\n",
    "learning_rate = 0.1\n",
    "\n",
    "# defines the \"correct\" the output is\n",
    "loss_fn = nn.CrossEntropyLoss()\n",
    "# defines how to adapt the model parameters depending on the (input, loss)\n",
    "# here we use stochastic gradient descent\n",
    "optimizer = torch.optim.SGD(model.parameters(), lr=learning_rate)\n",
    "\n",
    "epochs = 10\n",
    "for t in range(epochs):\n",
    "    print(f\"Epoch {t+1}\\n-------------------------------\")\n",
    "    train_loop(train_dataloader, model, loss_fn, optimizer)\n",
    "\t# testing for each epoch to track the models performance during training.\n",
    "    test_loop(test_dataloader, model, loss_fn)\n",
    "print(\"Done!\")"
   ]
  },
  {
   "cell_type": "code",
   "execution_count": 11,
   "metadata": {},
   "outputs": [
    {
     "name": "stdout",
     "output_type": "stream",
     "text": [
      "model input:  tensor([ 2,  3,  3,  4,  6, 13, 18, 19, 23, 24])\n",
      "expected output: first element:  2\n",
      "actual output:  2\n",
      "Output was correct\n"
     ]
    }
   ],
   "source": [
    "x,y = get_line()\n",
    "model_output = model(x).argmax()\n",
    "\n",
    "print(\"model input: \", x)\n",
    "print(\"expected output: first element: \", y.item())\n",
    "print(\"actual output: \", model_output.item())\n",
    "\n",
    "if model_output == y:\n",
    "    print(\"Output was correct\")\n",
    "else:\n",
    "    print(\"Output was incorrect!\")"
   ]
  }
 ],
 "metadata": {
  "kernelspec": {
   "display_name": "Python 3",
   "language": "python",
   "name": "python3"
  },
  "language_info": {
   "codemirror_mode": {
    "name": "ipython",
    "version": 3
   },
   "file_extension": ".py",
   "mimetype": "text/x-python",
   "name": "python",
   "nbconvert_exporter": "python",
   "pygments_lexer": "ipython3",
   "version": "3.10.14"
  }
 },
 "nbformat": 4,
 "nbformat_minor": 2
}
