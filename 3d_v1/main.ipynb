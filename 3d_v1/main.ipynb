{
 "cells": [
  {
   "cell_type": "code",
   "execution_count": 1,
   "metadata": {},
   "outputs": [
    {
     "name": "stdout",
     "output_type": "stream",
     "text": [
      "Jupyter environment detected. Enabling Open3D WebVisualizer.\n",
      "[Open3D INFO] WebRTC GUI backend enabled.\n",
      "[Open3D INFO] WebRTCWindowSystem: HTTP handshake server disabled.\n",
      "PointCloud with 196133 points.\n",
      "[[0.65234375 0.84686458 2.37890625]\n",
      " [0.65234375 0.83984375 2.38430572]\n",
      " [0.66737998 0.83984375 2.37890625]\n",
      " ...\n",
      " [2.00839925 2.39453125 1.88671875]\n",
      " [2.00390625 2.39488506 1.88671875]\n",
      " [2.00390625 2.39453125 1.88793314]]\n",
      "\u001b[1;33m[Open3D WARNING] GLFW Error: X11: The DISPLAY environment variable is missing\u001b[0;m\n",
      "\u001b[1;33m[Open3D WARNING] Failed to initialize GLFW\u001b[0;m\n",
      "\u001b[1;33m[Open3D WARNING] [DrawGeometries] Failed creating OpenGL window.\u001b[0;m\n"
     ]
    }
   ],
   "source": [
    "import open3d.core as o3c\n",
    "import open3d as o3d\n",
    "import numpy as np\n",
    "\n",
    "datapath = \"/home/service/datasets/Stanford3dDataset_v1.2_Aligned_Version\"\n",
    "\n",
    "ppath = f\"{datapath}/Area_1/conferenceRoom_1/conferenceRoom_1.txt\"\n",
    "\n",
    "data = np.loadtxt(ppath)\n",
    "\n",
    "cloud = o3c.Tensor(data[:, :3], dtype=o3c.float32, device=o3c.Device(\"CUDA:0\"))\n",
    "\n",
    "\n",
    "ply_point_cloud = o3d.data.PLYPointCloud()\n",
    "pcd = o3d.io.read_point_cloud(ply_point_cloud.path)\n",
    "print(pcd)\n",
    "print(np.asarray(pcd.points))\n",
    "o3d.visualization.draw_geometries([pcd],\n",
    "                                  zoom=0.3412,\n",
    "                                  front=[0.4257, -0.2125, -0.8795],\n",
    "                                  lookat=[2.6172, 2.0475, 1.532],\n",
    "                                  up=[-0.0694, -0.9768, 0.2024])\n"
   ]
  },
  {
   "cell_type": "code",
   "execution_count": 3,
   "metadata": {},
   "outputs": [
    {
     "data": {
      "text/plain": [
       "PointCloud with 196133 points."
      ]
     },
     "execution_count": 3,
     "metadata": {},
     "output_type": "execute_result"
    }
   ],
   "source": []
  }
 ],
 "metadata": {
  "kernelspec": {
   "display_name": "Python 3",
   "language": "python",
   "name": "python3"
  },
  "language_info": {
   "codemirror_mode": {
    "name": "ipython",
    "version": 3
   },
   "file_extension": ".py",
   "mimetype": "text/x-python",
   "name": "python",
   "nbconvert_exporter": "python",
   "pygments_lexer": "ipython3",
   "version": "3.10.12"
  }
 },
 "nbformat": 4,
 "nbformat_minor": 2
}
